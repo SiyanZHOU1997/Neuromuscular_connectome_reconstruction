{
 "cells": [
  {
   "cell_type": "code",
   "execution_count": 2,
   "metadata": {},
   "outputs": [],
   "source": [
    "import h5py\n",
    "import numpy as np\n",
    "import matplotlib.pyplot as plt\n",
    "from skimage.measure import label\n",
    "from matplotlib import cm\n",
    "import cv2\n",
    "from scipy import ndimage\n",
    "from matplotlib import pyplot\n",
    "import scipy\n",
    "from PIL import Image\n",
    "from skimage import measure\n",
    "from tqdm import tqdm_notebook as tqdm"
   ]
  },
  {
   "cell_type": "markdown",
   "metadata": {},
   "source": [
    "Below is a Hungarian matching implementation by Brian Clapper, more author information is listed in the code. It has been capsulated into python module (one can find that at the url listed in author information), but here I modified something in the function of pad_matrix about row-padding because a type-error appears with the '+=' operation."
   ]
  },
  {
   "cell_type": "code",
   "execution_count": 3,
   "metadata": {},
   "outputs": [
    {
     "name": "stdout",
     "output_type": "stream",
     "text": [
      "cost matrix\n",
      "[400, 150, 400]\n",
      "[400, 450, 600]\n",
      "[300, 225, 300]\n",
      "(0, 1) -> 150\n",
      "(1, 0) -> 400\n",
      "(2, 2) -> 300\n",
      "lowest cost=850\n",
      "cost matrix\n",
      "[400, 150, 400,   1]\n",
      "[400, 450, 600,   2]\n",
      "[300, 225, 300,   3]\n",
      "(0, 1) -> 150\n",
      "(1, 3) -> 2\n",
      "(2, 2) -> 300\n",
      "lowest cost=452\n",
      "cost matrix\n",
      "[10, 10,  8]\n",
      "[ 9,  8,  1]\n",
      "[ 9,  7,  4]\n",
      "(0, 0) -> 10\n",
      "(1, 2) -> 1\n",
      "(2, 1) -> 7\n",
      "lowest cost=18\n",
      "cost matrix\n",
      "[10, 10,  8, 11]\n",
      "[ 9,  8,  1,  1]\n",
      "[ 9,  7,  4, 10]\n",
      "(0, 1) -> 10\n",
      "(1, 3) -> 1\n",
      "(2, 2) -> 4\n",
      "lowest cost=15\n",
      "cost matrix\n",
      "[ 4,  5,  6,  D]\n",
      "[ 1,  9, 12, 11]\n",
      "[ D,  5,  4,  D]\n",
      "[12, 12, 12, 10]\n",
      "(0, 1) -> 5\n",
      "(1, 0) -> 1\n",
      "(2, 2) -> 4\n",
      "(3, 3) -> 10\n",
      "lowest cost=20\n",
      "cost matrix\n",
      "[1, D, D, D]\n",
      "[D, 2, D, D]\n",
      "[D, D, 3, D]\n",
      "[D, D, D, 4]\n",
      "(0, 0) -> 1\n",
      "(1, 1) -> 2\n",
      "(2, 2) -> 3\n",
      "(3, 3) -> 4\n",
      "lowest cost=10\n"
     ]
    }
   ],
   "source": [
    "import sys\n",
    "import copy\n",
    "\n",
    "# ---------------------------------------------------------------------------\n",
    "# Exports\n",
    "# ---------------------------------------------------------------------------\n",
    "\n",
    "__all__     = ['Munkres', 'make_cost_matrix', 'DISALLOWED']\n",
    "\n",
    "# ---------------------------------------------------------------------------\n",
    "# Globals\n",
    "# ---------------------------------------------------------------------------\n",
    "\n",
    "# Info about the module\n",
    "__version__   = \"1.0.12\"\n",
    "__author__    = \"Brian Clapper, bmc@clapper.org\"\n",
    "__url__       = \"http://software.clapper.org/munkres/\"\n",
    "__copyright__ = \"(c) 2008-2017 Brian M. Clapper\"\n",
    "__license__   = \"Apache Software License\"\n",
    "\n",
    "# Constants\n",
    "class DISALLOWED_OBJ(object):\n",
    "    pass\n",
    "DISALLOWED = DISALLOWED_OBJ()\n",
    "DISALLOWED_PRINTVAL = \"D\"\n",
    "\n",
    "# ---------------------------------------------------------------------------\n",
    "# Exceptions\n",
    "# ---------------------------------------------------------------------------\n",
    "\n",
    "class UnsolvableMatrix(Exception):\n",
    "    \"\"\"\n",
    "    Exception raised for unsolvable matrices\n",
    "    \"\"\"\n",
    "    pass\n",
    "\n",
    "# ---------------------------------------------------------------------------\n",
    "# Classes\n",
    "# ---------------------------------------------------------------------------\n",
    "\n",
    "class Munkres:\n",
    "    \"\"\"\n",
    "    Calculate the Munkres solution to the classical assignment problem.\n",
    "    See the module documentation for usage.\n",
    "    \"\"\"\n",
    "\n",
    "    def __init__(self):\n",
    "        \"\"\"Create a new instance\"\"\"\n",
    "        self.C = None\n",
    "        self.row_covered = []\n",
    "        self.col_covered = []\n",
    "        self.n = 0\n",
    "        self.Z0_r = 0\n",
    "        self.Z0_c = 0\n",
    "        self.marked = None\n",
    "        self.path = None\n",
    "\n",
    "    def make_cost_matrix(profit_matrix, inversion_function):\n",
    "        \"\"\"\n",
    "        **DEPRECATED**\n",
    "\n",
    "        Please use the module function ``make_cost_matrix()``.\n",
    "        \"\"\"\n",
    "        import munkres\n",
    "        return munkres.make_cost_matrix(profit_matrix, inversion_function)\n",
    "\n",
    "    make_cost_matrix = staticmethod(make_cost_matrix)\n",
    "\n",
    "    def pad_matrix(self, matrix, pad_value=0):\n",
    "        \"\"\"\n",
    "        Pad a possibly non-square matrix to make it square.\n",
    "\n",
    "        :Parameters:\n",
    "            matrix : list of lists\n",
    "                matrix to pad\n",
    "\n",
    "            pad_value : int\n",
    "                value to use to pad the matrix\n",
    "\n",
    "        :rtype: list of lists\n",
    "        :return: a new, possibly padded, matrix\n",
    "        \"\"\"\n",
    "        max_columns = 0\n",
    "        total_rows = len(matrix)\n",
    "\n",
    "        for row in matrix:\n",
    "            max_columns = max(max_columns, len(row))\n",
    "\n",
    "        total_rows = max(max_columns, total_rows)\n",
    "\n",
    "        new_matrix = []\n",
    "        for row in matrix:\n",
    "            row_len = len(row)\n",
    "            new_row = row[:]\n",
    "            if total_rows > row_len:\n",
    "                # Row too short. Pad it.\n",
    "                new_row = list(new_row) + [pad_value] * (total_rows - row_len)\n",
    "            new_matrix += [new_row]\n",
    "\n",
    "        while len(new_matrix) < total_rows:\n",
    "            new_matrix += [[pad_value] * total_rows]\n",
    "\n",
    "        return new_matrix\n",
    "\n",
    "    def compute(self, cost_matrix):\n",
    "        \"\"\"\n",
    "        Compute the indexes for the lowest-cost pairings between rows and\n",
    "        columns in the database. Returns a list of (row, column) tuples\n",
    "        that can be used to traverse the matrix.\n",
    "\n",
    "        :Parameters:\n",
    "            cost_matrix : list of lists\n",
    "                The cost matrix. If this cost matrix is not square, it\n",
    "                will be padded with zeros, via a call to ``pad_matrix()``.\n",
    "                (This method does *not* modify the caller's matrix. It\n",
    "                operates on a copy of the matrix.)\n",
    "\n",
    "                **WARNING**: This code handles square and rectangular\n",
    "                matrices. It does *not* handle irregular matrices.\n",
    "\n",
    "        :rtype: list\n",
    "        :return: A list of ``(row, column)`` tuples that describe the lowest\n",
    "                 cost path through the matrix\n",
    "\n",
    "        \"\"\"\n",
    "        self.C = self.pad_matrix(cost_matrix)\n",
    "        self.n = len(self.C)\n",
    "        self.original_length = len(cost_matrix)\n",
    "        self.original_width = len(cost_matrix[0])\n",
    "        self.row_covered = [False for i in range(self.n)]\n",
    "        self.col_covered = [False for i in range(self.n)]\n",
    "        self.Z0_r = 0\n",
    "        self.Z0_c = 0\n",
    "        self.path = self.__make_matrix(self.n * 2, 0)\n",
    "        self.marked = self.__make_matrix(self.n, 0)\n",
    "\n",
    "        done = False\n",
    "        step = 1\n",
    "\n",
    "        steps = { 1 : self.__step1,\n",
    "                  2 : self.__step2,\n",
    "                  3 : self.__step3,\n",
    "                  4 : self.__step4,\n",
    "                  5 : self.__step5,\n",
    "                  6 : self.__step6 }\n",
    "\n",
    "        while not done:\n",
    "            try:\n",
    "                func = steps[step]\n",
    "                step = func()\n",
    "            except KeyError:\n",
    "                done = True\n",
    "\n",
    "        # Look for the starred columns\n",
    "        results = []\n",
    "        for i in range(self.original_length):\n",
    "            for j in range(self.original_width):\n",
    "                if self.marked[i][j] == 1:\n",
    "                    results += [(i, j)]\n",
    "\n",
    "        return results\n",
    "\n",
    "    def __copy_matrix(self, matrix):\n",
    "        \"\"\"Return an exact copy of the supplied matrix\"\"\"\n",
    "        return copy.deepcopy(matrix)\n",
    "\n",
    "    def __make_matrix(self, n, val):\n",
    "        \"\"\"Create an *n*x*n* matrix, populating it with the specific value.\"\"\"\n",
    "        matrix = []\n",
    "        for i in range(n):\n",
    "            matrix += [[val for j in range(n)]]\n",
    "        return matrix\n",
    "\n",
    "    def __step1(self):\n",
    "        \"\"\"\n",
    "        For each row of the matrix, find the smallest element and\n",
    "        subtract it from every element in its row. Go to Step 2.\n",
    "        \"\"\"\n",
    "        C = self.C\n",
    "        n = self.n\n",
    "        for i in range(n):\n",
    "            vals = [x for x in self.C[i] if x is not DISALLOWED]\n",
    "            if len(vals) == 0:\n",
    "                # All values in this row are DISALLOWED. This matrix is\n",
    "                # unsolvable.\n",
    "                raise UnsolvableMatrix(\n",
    "                    \"Row {0} is entirely DISALLOWED.\".format(i)\n",
    "                )\n",
    "            minval = min(vals)\n",
    "            # Find the minimum value for this row and subtract that minimum\n",
    "            # from every element in the row.\n",
    "            for j in range(n):\n",
    "                if self.C[i][j] is not DISALLOWED:\n",
    "                    self.C[i][j] -= minval\n",
    "        return 2\n",
    "\n",
    "    def __step2(self):\n",
    "        \"\"\"\n",
    "        Find a zero (Z) in the resulting matrix. If there is no starred\n",
    "        zero in its row or column, star Z. Repeat for each element in the\n",
    "        matrix. Go to Step 3.\n",
    "        \"\"\"\n",
    "        n = self.n\n",
    "        for i in range(n):\n",
    "            for j in range(n):\n",
    "                if (self.C[i][j] == 0) and \\\n",
    "                        (not self.col_covered[j]) and \\\n",
    "                        (not self.row_covered[i]):\n",
    "                    self.marked[i][j] = 1\n",
    "                    self.col_covered[j] = True\n",
    "                    self.row_covered[i] = True\n",
    "                    break\n",
    "\n",
    "        self.__clear_covers()\n",
    "        return 3\n",
    "\n",
    "    def __step3(self):\n",
    "        \"\"\"\n",
    "        Cover each column containing a starred zero. If K columns are\n",
    "        covered, the starred zeros describe a complete set of unique\n",
    "        assignments. In this case, Go to DONE, otherwise, Go to Step 4.\n",
    "        \"\"\"\n",
    "        n = self.n\n",
    "        count = 0\n",
    "        for i in range(n):\n",
    "            for j in range(n):\n",
    "                if self.marked[i][j] == 1 and not self.col_covered[j]:\n",
    "                    self.col_covered[j] = True\n",
    "                    count += 1\n",
    "\n",
    "        if count >= n:\n",
    "            step = 7 # done\n",
    "        else:\n",
    "            step = 4\n",
    "\n",
    "        return step\n",
    "\n",
    "    def __step4(self):\n",
    "        \"\"\"\n",
    "        Find a noncovered zero and prime it. If there is no starred zero\n",
    "        in the row containing this primed zero, Go to Step 5. Otherwise,\n",
    "        cover this row and uncover the column containing the starred\n",
    "        zero. Continue in this manner until there are no uncovered zeros\n",
    "        left. Save the smallest uncovered value and Go to Step 6.\n",
    "        \"\"\"\n",
    "        step = 0\n",
    "        done = False\n",
    "        row = 0\n",
    "        col = 0\n",
    "        star_col = -1\n",
    "        while not done:\n",
    "            (row, col) = self.__find_a_zero(row, col)\n",
    "            if row < 0:\n",
    "                done = True\n",
    "                step = 6\n",
    "            else:\n",
    "                self.marked[row][col] = 2\n",
    "                star_col = self.__find_star_in_row(row)\n",
    "                if star_col >= 0:\n",
    "                    col = star_col\n",
    "                    self.row_covered[row] = True\n",
    "                    self.col_covered[col] = False\n",
    "                else:\n",
    "                    done = True\n",
    "                    self.Z0_r = row\n",
    "                    self.Z0_c = col\n",
    "                    step = 5\n",
    "\n",
    "        return step\n",
    "\n",
    "    def __step5(self):\n",
    "        \"\"\"\n",
    "        Construct a series of alternating primed and starred zeros as\n",
    "        follows. Let Z0 represent the uncovered primed zero found in Step 4.\n",
    "        Let Z1 denote the starred zero in the column of Z0 (if any).\n",
    "        Let Z2 denote the primed zero in the row of Z1 (there will always\n",
    "        be one). Continue until the series terminates at a primed zero\n",
    "        that has no starred zero in its column. Unstar each starred zero\n",
    "        of the series, star each primed zero of the series, erase all\n",
    "        primes and uncover every line in the matrix. Return to Step 3\n",
    "        \"\"\"\n",
    "        count = 0\n",
    "        path = self.path\n",
    "        path[count][0] = self.Z0_r\n",
    "        path[count][1] = self.Z0_c\n",
    "        done = False\n",
    "        while not done:\n",
    "            row = self.__find_star_in_col(path[count][1])\n",
    "            if row >= 0:\n",
    "                count += 1\n",
    "                path[count][0] = row\n",
    "                path[count][1] = path[count-1][1]\n",
    "            else:\n",
    "                done = True\n",
    "\n",
    "            if not done:\n",
    "                col = self.__find_prime_in_row(path[count][0])\n",
    "                count += 1\n",
    "                path[count][0] = path[count-1][0]\n",
    "                path[count][1] = col\n",
    "\n",
    "        self.__convert_path(path, count)\n",
    "        self.__clear_covers()\n",
    "        self.__erase_primes()\n",
    "        return 3\n",
    "\n",
    "    def __step6(self):\n",
    "        \"\"\"\n",
    "        Add the value found in Step 4 to every element of each covered\n",
    "        row, and subtract it from every element of each uncovered column.\n",
    "        Return to Step 4 without altering any stars, primes, or covered\n",
    "        lines.\n",
    "        \"\"\"\n",
    "        minval = self.__find_smallest()\n",
    "        events = 0 # track actual changes to matrix\n",
    "        for i in range(self.n):\n",
    "            for j in range(self.n):\n",
    "                if self.C[i][j] is DISALLOWED:\n",
    "                    continue\n",
    "                if self.row_covered[i]:\n",
    "                    self.C[i][j] += minval\n",
    "                    events += 1\n",
    "                if not self.col_covered[j]:\n",
    "                    self.C[i][j] -= minval\n",
    "                    events += 1\n",
    "                if self.row_covered[i] and not self.col_covered[j]:\n",
    "                    events -= 2 # change reversed, no real difference\n",
    "        if (events == 0):\n",
    "            raise UnsolvableMatrix(\"Matrix cannot be solved!\")\n",
    "        return 4\n",
    "\n",
    "    def __find_smallest(self):\n",
    "        \"\"\"Find the smallest uncovered value in the matrix.\"\"\"\n",
    "        minval = sys.maxsize\n",
    "        for i in range(self.n):\n",
    "            for j in range(self.n):\n",
    "                if (not self.row_covered[i]) and (not self.col_covered[j]):\n",
    "                    if self.C[i][j] is not DISALLOWED and minval > self.C[i][j]:\n",
    "                        minval = self.C[i][j]\n",
    "        return minval\n",
    "\n",
    "\n",
    "    def __find_a_zero(self, i0=0, j0=0):\n",
    "        \"\"\"Find the first uncovered element with value 0\"\"\"\n",
    "        row = -1\n",
    "        col = -1\n",
    "        i = i0\n",
    "        n = self.n\n",
    "        done = False\n",
    "\n",
    "        while not done:\n",
    "            j = j0\n",
    "            while True:\n",
    "                if (self.C[i][j] == 0) and \\\n",
    "                        (not self.row_covered[i]) and \\\n",
    "                        (not self.col_covered[j]):\n",
    "                    row = i\n",
    "                    col = j\n",
    "                    done = True\n",
    "                j = (j + 1) % n\n",
    "                if j == j0:\n",
    "                    break\n",
    "            i = (i + 1) % n\n",
    "            if i == i0:\n",
    "                done = True\n",
    "\n",
    "        return (row, col)\n",
    "\n",
    "    def __find_star_in_row(self, row):\n",
    "        \"\"\"\n",
    "        Find the first starred element in the specified row. Returns\n",
    "        the column index, or -1 if no starred element was found.\n",
    "        \"\"\"\n",
    "        col = -1\n",
    "        for j in range(self.n):\n",
    "            if self.marked[row][j] == 1:\n",
    "                col = j\n",
    "                break\n",
    "\n",
    "        return col\n",
    "\n",
    "    def __find_star_in_col(self, col):\n",
    "        \"\"\"\n",
    "        Find the first starred element in the specified row. Returns\n",
    "        the row index, or -1 if no starred element was found.\n",
    "        \"\"\"\n",
    "        row = -1\n",
    "        for i in range(self.n):\n",
    "            if self.marked[i][col] == 1:\n",
    "                row = i\n",
    "                break\n",
    "\n",
    "        return row\n",
    "\n",
    "    def __find_prime_in_row(self, row):\n",
    "        \"\"\"\n",
    "        Find the first prime element in the specified row. Returns\n",
    "        the column index, or -1 if no starred element was found.\n",
    "        \"\"\"\n",
    "        col = -1\n",
    "        for j in range(self.n):\n",
    "            if self.marked[row][j] == 2:\n",
    "                col = j\n",
    "                break\n",
    "\n",
    "        return col\n",
    "\n",
    "    def __convert_path(self, path, count):\n",
    "        for i in range(count+1):\n",
    "            if self.marked[path[i][0]][path[i][1]] == 1:\n",
    "                self.marked[path[i][0]][path[i][1]] = 0\n",
    "            else:\n",
    "                self.marked[path[i][0]][path[i][1]] = 1\n",
    "\n",
    "    def __clear_covers(self):\n",
    "        \"\"\"Clear all covered matrix cells\"\"\"\n",
    "        for i in range(self.n):\n",
    "            self.row_covered[i] = False\n",
    "            self.col_covered[i] = False\n",
    "\n",
    "    def __erase_primes(self):\n",
    "        \"\"\"Erase all prime markings\"\"\"\n",
    "        for i in range(self.n):\n",
    "            for j in range(self.n):\n",
    "                if self.marked[i][j] == 2:\n",
    "                    self.marked[i][j] = 0\n",
    "\n",
    "# ---------------------------------------------------------------------------\n",
    "# Functions\n",
    "# ---------------------------------------------------------------------------\n",
    "\n",
    "def make_cost_matrix(profit_matrix, inversion_function=None):\n",
    "    \"\"\"\n",
    "    Create a cost matrix from a profit matrix by calling\n",
    "    'inversion_function' to invert each value. The inversion\n",
    "    function must take one numeric argument (of any type) and return\n",
    "    another numeric argument which is presumed to be the cost inverse\n",
    "    of the original profit. In case the inversion function is not provided,\n",
    "    calculate it as max(matrix) - matrix.\n",
    "\n",
    "    This is a static method. Call it like this:\n",
    "\n",
    "    .. python:\n",
    "\n",
    "        cost_matrix = Munkres.make_cost_matrix(matrix, inversion_func)\n",
    "\n",
    "    For example:\n",
    "\n",
    "    .. python:\n",
    "\n",
    "        cost_matrix = Munkres.make_cost_matrix(matrix, lambda x : sys.maxsize - x)\n",
    "\n",
    "    :Parameters:\n",
    "        profit_matrix : list of lists\n",
    "            The matrix to convert from a profit to a cost matrix\n",
    "\n",
    "        inversion_function : function\n",
    "            The function to use to invert each entry in the profit matrix.\n",
    "            In case it is not provided, calculate it as max(matrix) - matrix.\n",
    "\n",
    "    :rtype: list of lists\n",
    "    :return: The converted matrix\n",
    "    \"\"\"\n",
    "    if not inversion_function:\n",
    "      maximum = max(max(row) for row in profit_matrix)\n",
    "      inversion_function = lambda x: maximum - x\n",
    "\n",
    "    cost_matrix = []\n",
    "    for row in profit_matrix:\n",
    "        cost_matrix.append([inversion_function(value) for value in row])\n",
    "    return cost_matrix\n",
    "\n",
    "def print_matrix(matrix, msg=None):\n",
    "    \"\"\"\n",
    "    Convenience function: Displays the contents of a matrix of integers.\n",
    "\n",
    "    :Parameters:\n",
    "        matrix : list of lists\n",
    "            Matrix to print\n",
    "\n",
    "        msg : str\n",
    "            Optional message to print before displaying the matrix\n",
    "    \"\"\"\n",
    "    import math\n",
    "\n",
    "    if msg is not None:\n",
    "        print(msg)\n",
    "\n",
    "    # Calculate the appropriate format width.\n",
    "    width = 0\n",
    "    for row in matrix:\n",
    "        for val in row:\n",
    "            if val is DISALLOWED:\n",
    "                val = DISALLOWED_PRINTVAL\n",
    "            width = max(width, len(str(val)))\n",
    "\n",
    "    # Make the format string\n",
    "    format = ('%%%d' % width)\n",
    "\n",
    "    # Print the matrix\n",
    "    for row in matrix:\n",
    "        sep = '['\n",
    "        for val in row:\n",
    "            if val is DISALLOWED:\n",
    "                formatted = ((format + 's') % DISALLOWED_PRINTVAL)\n",
    "            else: formatted = ((format + 'd') % val)\n",
    "            sys.stdout.write(sep + formatted)\n",
    "            sep = ', '\n",
    "        sys.stdout.write(']\\n')\n",
    "\n",
    "# ---------------------------------------------------------------------------\n",
    "# Main\n",
    "# ---------------------------------------------------------------------------\n",
    "\n",
    "if __name__ == '__main__':\n",
    "\n",
    "    matrices = [\n",
    "        # Square\n",
    "        ([[400, 150, 400],\n",
    "          [400, 450, 600],\n",
    "          [300, 225, 300]],\n",
    "         850),  # expected cost\n",
    "\n",
    "        # Rectangular variant\n",
    "        ([[400, 150, 400, 1],\n",
    "          [400, 450, 600, 2],\n",
    "          [300, 225, 300, 3]],\n",
    "         452),  # expected cost\n",
    "\n",
    "\n",
    "        # Square\n",
    "        ([[10, 10,  8],\n",
    "          [9,  8,  1],\n",
    "          [9,  7,  4]],\n",
    "         18),\n",
    "\n",
    "        # Rectangular variant\n",
    "        ([[10, 10,  8, 11],\n",
    "          [9,  8,  1, 1],\n",
    "          [9,  7,  4, 10]],\n",
    "         15),\n",
    "\n",
    "        # Rectangular with DISALLOWED\n",
    "        ([[4, 5, 6, DISALLOWED],\n",
    "          [1, 9, 12, 11],\n",
    "          [DISALLOWED, 5, 4, DISALLOWED],\n",
    "          [12, 12, 12, 10]],\n",
    "         20),\n",
    "\n",
    "        # DISALLOWED to force pairings\n",
    "        ([[1, DISALLOWED, DISALLOWED, DISALLOWED],\n",
    "          [DISALLOWED, 2, DISALLOWED, DISALLOWED],\n",
    "          [DISALLOWED, DISALLOWED, 3, DISALLOWED],\n",
    "          [DISALLOWED, DISALLOWED, DISALLOWED, 4]],\n",
    "         10)]\n",
    "\n",
    "    m = Munkres()\n",
    "    for cost_matrix, expected_total in matrices:\n",
    "        print_matrix(cost_matrix, msg='cost matrix')\n",
    "        indexes = m.compute(cost_matrix)\n",
    "        total_cost = 0\n",
    "        for r, c in indexes:\n",
    "            x = cost_matrix[r][c]\n",
    "            total_cost += x\n",
    "            print('(%d, %d) -> %d' % (r, c, x))\n",
    "        print('lowest cost=%d' % total_cost)\n",
    "        assert expected_total == total_cost\n"
   ]
  },
  {
   "cell_type": "markdown",
   "metadata": {},
   "source": [
    "# import data"
   ]
  },
  {
   "cell_type": "code",
   "execution_count": 4,
   "metadata": {},
   "outputs": [
    {
     "name": "stdout",
     "output_type": "stream",
     "text": [
      "U:\\Siyan\\Nerve_Bundle\\export_png_mip0\n"
     ]
    }
   ],
   "source": [
    "cd U:\\Siyan\\Nerve_Bundle\\export_png_mip0"
   ]
  },
  {
   "cell_type": "code",
   "execution_count": 5,
   "metadata": {},
   "outputs": [],
   "source": [
    "f = Image.open(\"Bundle_1_2_merged_EM_VAST.vsseg_export_s0000.png\")"
   ]
  },
  {
   "cell_type": "code",
   "execution_count": 6,
   "metadata": {},
   "outputs": [
    {
     "name": "stdout",
     "output_type": "stream",
     "text": [
      "(2650, 4850)\n",
      "uint8\n"
     ]
    }
   ],
   "source": [
    "im = np.asarray(f)\n",
    "print(im.shape)\n",
    "print(im.dtype)"
   ]
  },
  {
   "cell_type": "code",
   "execution_count": 7,
   "metadata": {},
   "outputs": [],
   "source": [
    "mask = np.zeros((1445,2650,4850),dtype='uint8')"
   ]
  },
  {
   "cell_type": "code",
   "execution_count": 8,
   "metadata": {},
   "outputs": [
    {
     "data": {
      "application/vnd.jupyter.widget-view+json": {
       "model_id": "2559145d36074d119d8b71acbfce1270",
       "version_major": 2,
       "version_minor": 0
      },
      "text/plain": [
       "HBox(children=(IntProgress(value=0, max=1445), HTML(value='')))"
      ]
     },
     "metadata": {},
     "output_type": "display_data"
    },
    {
     "name": "stdout",
     "output_type": "stream",
     "text": [
      "\n"
     ]
    }
   ],
   "source": [
    "for i in tqdm(range(1445)):\n",
    "    f = Image.open(\"Bundle_1_2_merged_EM_VAST.vsseg_export_s\" +str(\"%04d\"%i)+\".png\")\n",
    "    im = np.asarray(f)\n",
    "    if np.sum(im) == 0:\n",
    "        print (\"!!!\",i)\n",
    "    mask[i] = im"
   ]
  },
  {
   "cell_type": "markdown",
   "metadata": {},
   "source": [
    "# data pre-processing"
   ]
  },
  {
   "cell_type": "markdown",
   "metadata": {},
   "source": [
    "here I preserved axon segments and erase tracing label from gt. Furthermore, erosion for 1 pixel is performed to reduce segment merging."
   ]
  },
  {
   "cell_type": "code",
   "execution_count": 16,
   "metadata": {},
   "outputs": [],
   "source": [
    "axonId = range(36)[15:]"
   ]
  },
  {
   "cell_type": "code",
   "execution_count": 17,
   "metadata": {},
   "outputs": [],
   "source": [
    "axon_mask = np.isin(mask,axonId)"
   ]
  },
  {
   "cell_type": "code",
   "execution_count": 31,
   "metadata": {},
   "outputs": [],
   "source": [
    "untraced_mask = axon_mask"
   ]
  },
  {
   "cell_type": "code",
   "execution_count": 18,
   "metadata": {},
   "outputs": [],
   "source": [
    "axonId_mask = axon_mask * mask"
   ]
  },
  {
   "cell_type": "code",
   "execution_count": 32,
   "metadata": {},
   "outputs": [],
   "source": [
    "axon_mask = axonId_mask"
   ]
  },
  {
   "cell_type": "code",
   "execution_count": 19,
   "metadata": {},
   "outputs": [],
   "source": [
    "del mask"
   ]
  },
  {
   "cell_type": "code",
   "execution_count": 20,
   "metadata": {},
   "outputs": [
    {
     "data": {
      "image/png": "[encoded data removed]",
      "text/plain": [
       "<Figure size 1440x504 with 8 Axes>"
      ]
     },
     "metadata": {},
     "output_type": "display_data"
    },
    {
     "data": {
      "image/png": "[encoded data removed]",
      "text/plain": [
       "<Figure size 1440x504 with 8 Axes>"
      ]
     },
     "metadata": {},
     "output_type": "display_data"
    }
   ],
   "source": [
    "fig,ax = plt.subplots(2,4,figsize = (20,7))\n",
    "for i in range(2):\n",
    "    for j in range(4):\n",
    "        k = 0+4*i+j\n",
    "        ax[i,j].imshow(axonId_mask[k])\n",
    "fig,ax = plt.subplots(2,4,figsize = (20,7))\n",
    "for i in range(2):\n",
    "    for j in range(4):\n",
    "        k = 0+4*i+j\n",
    "        ax[i,j].imshow(axon_mask[k])"
   ]
  },
  {
   "cell_type": "code",
   "execution_count": 35,
   "metadata": {},
   "outputs": [
    {
     "data": {
      "application/vnd.jupyter.widget-view+json": {
       "model_id": "f54805f7b8af4b2396cf767a25fa2262",
       "version_major": 2,
       "version_minor": 0
      },
      "text/plain": [
       "HBox(children=(IntProgress(value=0, max=1444), HTML(value='')))"
      ]
     },
     "metadata": {},
     "output_type": "display_data"
    }
   ],
   "source": [
    "for i in tqdm(range(1444)):\n",
    "    dt = ndimage.distance_transform_edt(untraced_mask[i])\n",
    "    untraced_mask[i] = (dt>1)"
   ]
  },
  {
   "cell_type": "code",
   "execution_count": 36,
   "metadata": {},
   "outputs": [
    {
     "data": {
      "application/vnd.jupyter.widget-view+json": {
       "model_id": "1b825115a97f4390b8ab32955b14c8f3",
       "version_major": 2,
       "version_minor": 0
      },
      "text/plain": [
       "HBox(children=(IntProgress(value=0, max=1444), HTML(value='')))"
      ]
     },
     "metadata": {},
     "output_type": "display_data"
    }
   ],
   "source": [
    "for i in tqdm(range(1444)):\n",
    "    dt = ndimage.distance_transform_edt(axon_mask[i])\n",
    "    axon_mask[i] = (dt>1)*axon_mask[i]"
   ]
  },
  {
   "cell_type": "markdown",
   "metadata": {},
   "source": [
    "analyze the processed data to see if there is abnormality. "
   ]
  },
  {
   "cell_type": "code",
   "execution_count": 37,
   "metadata": {},
   "outputs": [
    {
     "data": {
      "application/vnd.jupyter.widget-view+json": {
       "model_id": "91e2656776404fb1ae07de5e00a44614",
       "version_major": 2,
       "version_minor": 0
      },
      "text/plain": [
       "HBox(children=(IntProgress(value=0, max=1444), HTML(value='')))"
      ]
     },
     "metadata": {},
     "output_type": "display_data"
    },
    {
     "name": "stdout",
     "output_type": "stream",
     "text": [
      "b!=21 0 0\n"
     ]
    }
   ],
   "source": [
    "for i in tqdm(range(1444)):\n",
    "    lb = label(input=axon_mask[i], background = 0, connectivity=1, return_num=True)\n",
    "    a = lb[1]\n",
    "    b = np.unique(axonId_mask[i]).size - 1\n",
    "    if b != 21:\n",
    "        print(\"b!=21\",i,b)\n",
    "    if a < b: \n",
    "        print (\"a<b\",i,a,b)"
   ]
  },
  {
   "cell_type": "code",
   "execution_count": 74,
   "metadata": {},
   "outputs": [
    {
     "data": {
      "application/vnd.jupyter.widget-view+json": {
       "model_id": "f3186ef7fa184baa8922e1729986eaed",
       "version_major": 2,
       "version_minor": 0
      },
      "text/plain": [
       "HBox(children=(IntProgress(value=0, max=1444), HTML(value='')))"
      ]
     },
     "metadata": {},
     "output_type": "display_data"
    }
   ],
   "source": [
    "for i in tqdm(range(1444)):\n",
    "    if np.sum(np.abs(untraced_mask[i] ^ (axon_mask[i]>0))) != 0:\n",
    "        print(i)"
   ]
  },
  {
   "cell_type": "markdown",
   "metadata": {},
   "source": [
    "# implentment tracing function "
   ]
  },
  {
   "cell_type": "markdown",
   "metadata": {},
   "source": [
    "### define the association matrix"
   ]
  },
  {
   "cell_type": "markdown",
   "metadata": {},
   "source": [
    "matrix_1: overlapping area"
   ]
  },
  {
   "cell_type": "code",
   "execution_count": 22,
   "metadata": {},
   "outputs": [],
   "source": [
    "def OverlapArea(n,m):\n",
    "    #n,m are the two sections between which we want to trace\n",
    "    \n",
    "    #connected region detection\n",
    "    lb1 = label(input=untraced_mask[n], background = 0, connectivity=1, return_num=True)\n",
    "    lb2 = label(input=untraced_mask[m], background = 0, connectivity=1, return_num=True)\n",
    "    \n",
    "    #N,M are the labeled section n and m, correspondingly\n",
    "    N = lb1[0] \n",
    "    M = lb2[0]\n",
    "    \n",
    "    #initiate the overlapArea matrix\n",
    "    # '+1' because lb[1] doesn't count background 0\n",
    "    oArea = np.zeros((lb1[1]+1,lb2[1]+1)) \n",
    "    \n",
    "    #asign value to each pair of objects in section n and m\n",
    "    for i in range(lb1[1]+1):  \n",
    "        for j in range(lb2[1]+1):\n",
    "            X = (N == i)\n",
    "            Y = (M == j)\n",
    "            o = np.sum(X * Y)\n",
    "            oArea[i,j] = o  #oArea[i,j] for ovelapping area (pixel number) of object(i) in section n and object(j) in section m\n",
    "    \n",
    "    #ignore overlapping with background 0\n",
    "    return oArea[1:,1:]"
   ]
  },
  {
   "cell_type": "markdown",
   "metadata": {},
   "source": [
    "matrix_2: distance"
   ]
  },
  {
   "cell_type": "code",
   "execution_count": null,
   "metadata": {},
   "outputs": [],
   "source": []
  },
  {
   "cell_type": "markdown",
   "metadata": {},
   "source": [
    "### use Hungarian Matching to Trace according to coincident area"
   ]
  },
  {
   "cell_type": "code",
   "execution_count": 23,
   "metadata": {},
   "outputs": [],
   "source": [
    "def trace(aMatrix,n,m):\n",
    "    #n,m are the two sections between which we want to trace, aMatrix is the association matrix between them\n",
    "    \n",
    "    maxM = np.max(aMatrix)\n",
    "    C = maxM - aMatrix #munkres calculate the minimum matching\n",
    "    mk = Munkres()\n",
    "    indexes = mk.compute(C)\n",
    "    \n",
    "    # turn indexes from list to array for operation conveniency\n",
    "    # \"+1\" because axon1 is in index of 0 because we delete the first line and row of the association matrix\n",
    "    indexArray = np.array(indexes).T + 1  \n",
    "\n",
    "    '''\n",
    "    #delete matching with false axons(with only 1 pixel)\n",
    "    for i in range(len(indexes)):\n",
    "        row, column = indexes[i]\n",
    "        value = c[row,column]\n",
    "        if value < 2:\n",
    "            del indexes[i]\n",
    "    '''\n",
    "    \n",
    "    # when branching in pattern Y, the main nerve will be assigned to one branch, needing manual proofreading\n",
    "    # Now deal with branching ~Y\n",
    "    M = label(input=untraced_mask[m], background = 0, connectivity=1, return_num=True)\n",
    "    \n",
    "    # for every region (connected No.i) in section m that hasn't been assigned to an object in section n\n",
    "    for i in np.unique(M[0],return_counts=False): \n",
    "        if i not in indexArray[1] and i!= 0:\n",
    "\n",
    "            # assign it to the most overlapping object in section n \n",
    "            j = np.argmax(aMatrix.T[i-1]) \n",
    "\n",
    "            # only preserve the assignment with real overlapping\n",
    "            if aMatrix[j,i-1] != 0: \n",
    "                indexArray = np.hstack((indexArray,np.array([j+1,i]).reshape(2,1)))\n",
    "    \n",
    "    \n",
    "    return indexArray"
   ]
  },
  {
   "cell_type": "markdown",
   "metadata": {},
   "source": [
    "### assign color"
   ]
  },
  {
   "cell_type": "code",
   "execution_count": 24,
   "metadata": {},
   "outputs": [],
   "source": [
    "def assignColor(indexes,n,m):\n",
    "    # assign color to objects in section m according to section n\n",
    "    # input:\n",
    "    #     indexes: [2,N]array recording the coorespondence of objects in section n and m,\n",
    "    #              N is the max of object amount in n and m.\n",
    "    # output:\n",
    "    #     color: [2,M]array recording the assigned color of objects in section m\n",
    "    #              M is the conneted objects amount in section m\n",
    "    \n",
    "    M = label(input=untraced_mask[m], background = 0, connectivity=1, return_num=True)\n",
    "    N = label(input=untraced_mask[n], background = 0, connectivity=1, return_num=True)\n",
    "    \n",
    "    # color[0]:connected number of objects in section m\n",
    "    # color[1]:axon number of objects in section m\n",
    "    color = np.zeros((2,M[1]))\n",
    "    \n",
    "    # for every connected object in section m\n",
    "    for i in range(M[1]):\n",
    "        color[0,i] = i+1 # '+1' because of the background 0\n",
    "        w = np.where(indexes[1] == i+1)[0]\n",
    "        objectN = indexes[0,w]\n",
    "        \n",
    "        #get the color of object(objectN) in section n of traced_mask\n",
    "        coord = np.where(N[0] == objectN)\n",
    "        try:\n",
    "            x = coord[0][0]\n",
    "            y = coord[1][0]\n",
    "            colorN = traced_mask[n][x,y] \n",
    "        except:\n",
    "            colorN = 0\n",
    "        \n",
    "        #asign it to corresponding region in section(m)\n",
    "        color[1,i] = colorN  \n",
    "        \n",
    "    return color"
   ]
  },
  {
   "cell_type": "markdown",
   "metadata": {},
   "source": [
    "# main body and evaluation"
   ]
  },
  {
   "cell_type": "code",
   "execution_count": 38,
   "metadata": {},
   "outputs": [],
   "source": [
    "traced_mask = np.zeros(axon_mask.shape,dtype='uint8')"
   ]
  },
  {
   "cell_type": "markdown",
   "metadata": {},
   "source": [
    "### trace on Marco[0:300] "
   ]
  },
  {
   "cell_type": "code",
   "execution_count": 39,
   "metadata": {},
   "outputs": [],
   "source": [
    "traced_mask[1] = axonId_mask[1]"
   ]
  },
  {
   "cell_type": "code",
   "execution_count": 102,
   "metadata": {},
   "outputs": [],
   "source": [
    "evaluation = [0,0]"
   ]
  },
  {
   "cell_type": "code",
   "execution_count": 114,
   "metadata": {},
   "outputs": [
    {
     "data": {
      "application/vnd.jupyter.widget-view+json": {
       "model_id": "3b1641d971a74ebea944cf851e6a58fe",
       "version_major": 2,
       "version_minor": 0
      },
      "text/plain": [
       "HBox(children=(IntProgress(value=0), HTML(value='')))"
      ]
     },
     "metadata": {},
     "output_type": "display_data"
    },
    {
     "name": "stderr",
     "output_type": "stream",
     "text": [
      "C:\\Users\\Harvard\\Anaconda3\\lib\\site-packages\\ipykernel_launcher.py:24: DeprecationWarning: elementwise == comparison failed; this will raise an error in the future.\n"
     ]
    }
   ],
   "source": [
    "#tracing\n",
    "for i in tqdm(range(traced_mask.shape[0])[200:300]):\n",
    "    oArea = OverlapArea(i,i+1)\n",
    "    indexes = trace(oArea,i,i+1)\n",
    "    color = assignColor(indexes,i,i+1).astype('uint8')\n",
    "    M = label(input=untraced_mask[i+1], background = 0, connectivity=1, return_num=True)\n",
    "    for j in range(color.shape[1]):\n",
    "        traced_mask[i+1] += ((M[0] == color[0][j]) * color[1][j])"
   ]
  },
  {
   "cell_type": "code",
   "execution_count": 118,
   "metadata": {},
   "outputs": [
    {
     "data": {
      "application/vnd.jupyter.widget-view+json": {
       "model_id": "eb451a762617473faa52912b93bb7950",
       "version_major": 2,
       "version_minor": 0
      },
      "text/plain": [
       "HBox(children=(IntProgress(value=0), HTML(value='')))"
      ]
     },
     "metadata": {},
     "output_type": "display_data"
    }
   ],
   "source": [
    "#evaluation\n",
    "for i in tqdm(range(300)[200:]):\n",
    "    num = 0\n",
    "    mistrace = label(input=((traced_mask[i+1] - axon_mask[i+1])!=0), background = 0, connectivity=1, return_num=True)\n",
    "    for j in range(label(input=((traced_mask[i+1] - axon_mask[i+1])!=0), background = 0, connectivity=1, return_num=True)[1]):\n",
    "        if np.sum(mistrace[0]==(j+1))>2:\n",
    "            num = num+1\n",
    "    evaluation.append(num)"
   ]
  },
  {
   "cell_type": "code",
   "execution_count": 240,
   "metadata": {},
   "outputs": [
    {
     "data": {
      "application/vnd.jupyter.widget-view+json": {
       "model_id": "720f879d17704580958bc1cf65764a36",
       "version_major": 2,
       "version_minor": 0
      },
      "text/plain": [
       "HBox(children=(IntProgress(value=0, max=1445), HTML(value='')))"
      ]
     },
     "metadata": {},
     "output_type": "display_data"
    },
    {
     "ename": "KeyboardInterrupt",
     "evalue": "",
     "output_type": "error",
     "traceback": [
      "\u001b[1;31m---------------------------------------------------------------------------\u001b[0m",
      "\u001b[1;31mKeyboardInterrupt\u001b[0m                         Traceback (most recent call last)",
      "\u001b[1;32m<ipython-input-240-0da5c805be9e>\u001b[0m in \u001b[0;36m<module>\u001b[1;34m()\u001b[0m\n\u001b[0;32m      1\u001b[0m \u001b[0mtotalAxon\u001b[0m \u001b[1;33m=\u001b[0m \u001b[1;33m[\u001b[0m\u001b[1;33m]\u001b[0m\u001b[1;33m\u001b[0m\u001b[0m\n\u001b[0;32m      2\u001b[0m \u001b[1;32mfor\u001b[0m \u001b[0mi\u001b[0m \u001b[1;32min\u001b[0m \u001b[0mtqdm\u001b[0m\u001b[1;33m(\u001b[0m\u001b[0mrange\u001b[0m\u001b[1;33m(\u001b[0m\u001b[1;36m1445\u001b[0m\u001b[1;33m)\u001b[0m\u001b[1;33m)\u001b[0m\u001b[1;33m:\u001b[0m\u001b[1;33m\u001b[0m\u001b[0m\n\u001b[1;32m----> 3\u001b[1;33m     \u001b[0mp\u001b[0m \u001b[1;33m=\u001b[0m \u001b[0mlabel\u001b[0m\u001b[1;33m(\u001b[0m\u001b[0minput\u001b[0m\u001b[1;33m=\u001b[0m\u001b[0muntraced_mask\u001b[0m\u001b[1;33m[\u001b[0m\u001b[0mi\u001b[0m\u001b[1;33m]\u001b[0m\u001b[1;33m,\u001b[0m \u001b[0mbackground\u001b[0m \u001b[1;33m=\u001b[0m \u001b[1;36m0\u001b[0m\u001b[1;33m,\u001b[0m \u001b[0mconnectivity\u001b[0m\u001b[1;33m=\u001b[0m\u001b[1;36m1\u001b[0m\u001b[1;33m,\u001b[0m \u001b[0mreturn_num\u001b[0m\u001b[1;33m=\u001b[0m\u001b[1;32mTrue\u001b[0m\u001b[1;33m)\u001b[0m\u001b[1;33m[\u001b[0m\u001b[1;36m1\u001b[0m\u001b[1;33m]\u001b[0m\u001b[1;33m\u001b[0m\u001b[0m\n\u001b[0m\u001b[0;32m      4\u001b[0m     \u001b[0mtotalAxon\u001b[0m\u001b[1;33m.\u001b[0m\u001b[0mappend\u001b[0m\u001b[1;33m(\u001b[0m\u001b[0mp\u001b[0m\u001b[1;33m)\u001b[0m\u001b[1;33m\u001b[0m\u001b[0m\n",
      "\u001b[1;32m~\\Anaconda3\\lib\\site-packages\\skimage\\measure\\_label.py\u001b[0m in \u001b[0;36mlabel\u001b[1;34m(input, neighbors, background, return_num, connectivity)\u001b[0m\n\u001b[0;32m     91\u001b[0m      [0 0 0]]\n\u001b[0;32m     92\u001b[0m     \"\"\"\n\u001b[1;32m---> 93\u001b[1;33m     \u001b[1;32mreturn\u001b[0m \u001b[0mclabel\u001b[0m\u001b[1;33m(\u001b[0m\u001b[0minput\u001b[0m\u001b[1;33m,\u001b[0m \u001b[0mneighbors\u001b[0m\u001b[1;33m,\u001b[0m \u001b[0mbackground\u001b[0m\u001b[1;33m,\u001b[0m \u001b[0mreturn_num\u001b[0m\u001b[1;33m,\u001b[0m \u001b[0mconnectivity\u001b[0m\u001b[1;33m)\u001b[0m\u001b[1;33m\u001b[0m\u001b[0m\n\u001b[0m",
      "\u001b[1;32mskimage/measure/_ccomp.pyx\u001b[0m in \u001b[0;36mskimage.measure._ccomp.label_cython (skimage\\measure\\_ccomp.c:4395)\u001b[1;34m()\u001b[0m\n",
      "\u001b[1;32m~\\Anaconda3\\lib\\site-packages\\numpy\\lib\\function_base.py\u001b[0m in \u001b[0;36mcopy\u001b[1;34m(a, order)\u001b[0m\n\u001b[0;32m   1459\u001b[0m \u001b[1;33m\u001b[0m\u001b[0m\n\u001b[0;32m   1460\u001b[0m \u001b[1;33m\u001b[0m\u001b[0m\n\u001b[1;32m-> 1461\u001b[1;33m \u001b[1;32mdef\u001b[0m \u001b[0mcopy\u001b[0m\u001b[1;33m(\u001b[0m\u001b[0ma\u001b[0m\u001b[1;33m,\u001b[0m \u001b[0morder\u001b[0m\u001b[1;33m=\u001b[0m\u001b[1;34m'K'\u001b[0m\u001b[1;33m)\u001b[0m\u001b[1;33m:\u001b[0m\u001b[1;33m\u001b[0m\u001b[0m\n\u001b[0m\u001b[0;32m   1462\u001b[0m     \"\"\"\n\u001b[0;32m   1463\u001b[0m     \u001b[0mReturn\u001b[0m \u001b[0man\u001b[0m \u001b[0marray\u001b[0m \u001b[0mcopy\u001b[0m \u001b[0mof\u001b[0m \u001b[0mthe\u001b[0m \u001b[0mgiven\u001b[0m \u001b[0mobject\u001b[0m\u001b[1;33m.\u001b[0m\u001b[1;33m\u001b[0m\u001b[0m\n",
      "\u001b[1;31mKeyboardInterrupt\u001b[0m: "
     ]
    }
   ],
   "source": [
    "totalAxon = []\n",
    "for i in tqdm(range(1445)):\n",
    "    p = label(input=untraced_mask[i], background = 0, connectivity=1, return_num=True)[1]\n",
    "    totalAxon.append(p)"
   ]
  },
  {
   "cell_type": "code",
   "execution_count": 119,
   "metadata": {},
   "outputs": [
    {
     "data": {
      "text/plain": [
       "[<matplotlib.lines.Line2D at 0x145ee940>]"
      ]
     },
     "execution_count": 119,
     "metadata": {},
     "output_type": "execute_result"
    },
    {
     "data": {
      "image/png": "[encoded data removed]",
      "text/plain": [
       "<Figure size 1440x720 with 1 Axes>"
      ]
     },
     "metadata": {},
     "output_type": "display_data"
    }
   ],
   "source": [
    "#visualize\n",
    "fig,ax = plt.subplots(1,1,figsize = (20,10))\n",
    "ax.plot(range(301), evaluation, 'b--')\n",
    "ax.plot(range(301), np.ones(301)*21, 'r--')"
   ]
  },
  {
   "cell_type": "markdown",
   "metadata": {},
   "source": [
    "### what's wrong on the 4 sections with new errors?"
   ]
  },
  {
   "cell_type": "code",
   "execution_count": 182,
   "metadata": {},
   "outputs": [
    {
     "data": {
      "text/plain": [
       "<matplotlib.image.AxesImage at 0x251d9dd8>"
      ]
     },
     "execution_count": 182,
     "metadata": {},
     "output_type": "execute_result"
    },
    {
     "data": {
      "image/png": "[encoded data removed]",
      "text/plain": [
       "<Figure size 1440x1440 with 4 Axes>"
      ]
     },
     "metadata": {},
     "output_type": "display_data"
    }
   ],
   "source": [
    "fig,ax = plt.subplots(2,2,figsize = (20,20))\n",
    "x1 = np.where(traced_mask[266][1000:,3500:]-axon_mask[266][1000:,3500:]==1)[0][0]\n",
    "y1 = np.where(traced_mask[266][1000:,3500:]-axon_mask[266][1000:,3500:]==1)[1][0]\n",
    "x2 = np.where(traced_mask[266][1000:,3500:]-axon_mask[266][1000:,3500:]==13)[0][0]\n",
    "y2 = np.where(traced_mask[266][1000:,3500:]-axon_mask[266][1000:,3500:]==13)[1][0]\n",
    "x3 = np.where(traced_mask[266][1000:,3500:]-axon_mask[266][1000:,3500:]==240)[0][0]\n",
    "y3 = np.where(traced_mask[266][1000:,3500:]-axon_mask[266][1000:,3500:]==240)[1][0]\n",
    "x4 = np.where(traced_mask[266][1000:,3500:]-axon_mask[266][1000:,3500:]==251)[0][0]\n",
    "y4 = np.where(traced_mask[266][1000:,3500:]-axon_mask[266][1000:,3500:]==251)[1][0]\n",
    "ax[0,0].imshow(traced_mask[266][1000:,3500:][x1-100:x1+100,y1-100:y1+100])\n",
    "ax[0,1].imshow(traced_mask[266][1000:,3500:][x2-100:x2+100,y2-100:y2+100])\n",
    "ax[1,0].imshow(axon_mask[266][1000:,3500:][x3-100:x3+100,y3-100:y3+100])\n",
    "ax[1,1].imshow(traced_mask[266][1000:,3500:][x4-100:x4+100,y4-100:y4+100])"
   ]
  },
  {
   "cell_type": "code",
   "execution_count": 130,
   "metadata": {},
   "outputs": [
    {
     "data": {
      "text/plain": [
       "<matplotlib.image.AxesImage at 0x152ade80>"
      ]
     },
     "execution_count": 130,
     "metadata": {},
     "output_type": "execute_result"
    },
    {
     "data": {
      "image/png": "[encoded data removed]",
      "text/plain": [
       "<Figure size 432x288 with 1 Axes>"
      ]
     },
     "metadata": {},
     "output_type": "display_data"
    }
   ],
   "source": [
    "plt.imshow(traced_mask[69][2020:2200,3970:4140])"
   ]
  },
  {
   "cell_type": "code",
   "execution_count": 252,
   "metadata": {},
   "outputs": [
    {
     "data": {
      "text/plain": [
       "<matplotlib.image.AxesImage at 0x489dc898>"
      ]
     },
     "execution_count": 252,
     "metadata": {},
     "output_type": "execute_result"
    },
    {
     "data": {
      "image/png": "[encoded data removed]",
      "text/plain": [
       "<Figure size 1440x1080 with 8 Axes>"
      ]
     },
     "metadata": {},
     "output_type": "display_data"
    }
   ],
   "source": [
    "fig,ax = plt.subplots(2,4,figsize = (20,15))\n",
    "ax[0,0].imshow(traced_mask[175][1600:1900,3600:3800])\n",
    "ax[0,1].imshow(traced_mask[176][1600:1900,3600:3800])\n",
    "ax[0,2].imshow(traced_mask[177][1600:1900,3600:3800])\n",
    "ax[0,3].imshow(traced_mask[178][1600:1900,3600:3800])\n",
    "ax[1,0].imshow(axon_mask[175][1600:1900,3600:3800])\n",
    "ax[1,1].imshow(axon_mask[176][1600:1900,3600:3800])\n",
    "ax[1,2].imshow(axon_mask[177][1600:1900,3600:3800])\n",
    "ax[1,3].imshow(axon_mask[178][1600:1900,3600:3800])"
   ]
  },
  {
   "cell_type": "code",
   "execution_count": 136,
   "metadata": {},
   "outputs": [
    {
     "data": {
      "text/plain": [
       "<matplotlib.image.AxesImage at 0x1726f400>"
      ]
     },
     "execution_count": 136,
     "metadata": {},
     "output_type": "execute_result"
    },
    {
     "data": {
      "image/png": "[encoded data removed]",
      "text/plain": [
       "<Figure size 432x288 with 1 Axes>"
      ]
     },
     "metadata": {},
     "output_type": "display_data"
    }
   ],
   "source": [
    "plt.imshow(traced_mask[232][1800:2100,4280:4480])"
   ]
  },
  {
   "cell_type": "markdown",
   "metadata": {},
   "source": [
    "### trace on Marco[1100:1400]"
   ]
  },
  {
   "cell_type": "code",
   "execution_count": 186,
   "metadata": {},
   "outputs": [],
   "source": [
    "traced_mask[1100:1400]=0"
   ]
  },
  {
   "cell_type": "code",
   "execution_count": 187,
   "metadata": {},
   "outputs": [],
   "source": [
    "traced_mask[1100] = axon_mask[1100]"
   ]
  },
  {
   "cell_type": "code",
   "execution_count": 188,
   "metadata": {
    "scrolled": true
   },
   "outputs": [
    {
     "data": {
      "application/vnd.jupyter.widget-view+json": {
       "model_id": "0288335abf894306bb33e59309405104",
       "version_major": 2,
       "version_minor": 0
      },
      "text/plain": [
       "HBox(children=(IntProgress(value=0, max=300), HTML(value='')))"
      ]
     },
     "metadata": {},
     "output_type": "display_data"
    },
    {
     "name": "stderr",
     "output_type": "stream",
     "text": [
      "C:\\Users\\Harvard\\Anaconda3\\lib\\site-packages\\ipykernel_launcher.py:24: DeprecationWarning: elementwise == comparison failed; this will raise an error in the future.\n"
     ]
    }
   ],
   "source": [
    "#tracing\n",
    "for i in tqdm(range(traced_mask.shape[0])[1100:1400]):\n",
    "    oArea = OverlapArea(i,i+1)\n",
    "    indexes = trace(oArea,i,i+1)\n",
    "    color = assignColor(indexes,i,i+1).astype('uint8')\n",
    "    M = label(input=untraced_mask[i+1], background = 0, connectivity=1, return_num=True)\n",
    "    sectioni_1 = np.array()\n",
    "    for j in range(color.shape[1]):\n",
    "        traced_mask[i+1] += ((M[0] == color[0][j]) * color[1][j])"
   ]
  },
  {
   "cell_type": "code",
   "execution_count": 189,
   "metadata": {},
   "outputs": [],
   "source": [
    "evaluation2 = [0,]"
   ]
  },
  {
   "cell_type": "code",
   "execution_count": 190,
   "metadata": {},
   "outputs": [
    {
     "data": {
      "application/vnd.jupyter.widget-view+json": {
       "model_id": "8d11d07333e348948abd64fec9c73974",
       "version_major": 2,
       "version_minor": 0
      },
      "text/plain": [
       "HBox(children=(IntProgress(value=0, max=300), HTML(value='')))"
      ]
     },
     "metadata": {},
     "output_type": "display_data"
    }
   ],
   "source": [
    "#evaluation\n",
    "for i in tqdm(range(1400)[1100:]):\n",
    "    num = 0\n",
    "    mistrace = label(input=((traced_mask[i+1] - axon_mask[i+1])!=0), background = 0, connectivity=1, return_num=True)\n",
    "    for j in range(label(input=((traced_mask[i+1] - axon_mask[i+1])!=0), background = 0, connectivity=1, return_num=True)[1]):\n",
    "        if np.sum(mistrace[0]==(j+1))>2:\n",
    "            num = num+1\n",
    "    evaluation2.append(num)"
   ]
  },
  {
   "cell_type": "code",
   "execution_count": 191,
   "metadata": {},
   "outputs": [
    {
     "data": {
      "text/plain": [
       "[<matplotlib.lines.Line2D at 0x252b2390>]"
      ]
     },
     "execution_count": 191,
     "metadata": {},
     "output_type": "execute_result"
    },
    {
     "data": {
      "image/png": "[encoded data removed]",
      "text/plain": [
       "<Figure size 1440x1440 with 1 Axes>"
      ]
     },
     "metadata": {},
     "output_type": "display_data"
    }
   ],
   "source": [
    "#visualize\n",
    "fig,ax = plt.subplots(1,1,figsize = (20,20))\n",
    "ax.plot(range(1445)[1100:1401], evaluation2, 'b--')"
   ]
  },
  {
   "cell_type": "markdown",
   "metadata": {},
   "source": [
    "### what's wrong with those sections with error?"
   ]
  },
  {
   "cell_type": "code",
   "execution_count": 230,
   "metadata": {},
   "outputs": [
    {
     "data": {
      "text/plain": [
       "<matplotlib.image.AxesImage at 0x37a0f7f0>"
      ]
     },
     "execution_count": 230,
     "metadata": {},
     "output_type": "execute_result"
    },
    {
     "data": {
      "image/png": "[encoded data removed]",
      "text/plain": [
       "<Figure size 1440x720 with 6 Axes>"
      ]
     },
     "metadata": {},
     "output_type": "display_data"
    }
   ],
   "source": [
    "fig,ax = plt.subplots(2,3,figsize = (20,10))\n",
    "ax[0,0].imshow(untraced_mask[1284][:2000,:3400])\n",
    "ax[0,1].imshow(axon_mask[1284][:2000,:3400])\n",
    "ax[0,2].imshow(traced_mask[1284][:2000,:3400])\n",
    "ax[1,0].imshow(untraced_mask[1114][900:2000,1900:3400])\n",
    "ax[1,1].imshow(axon_mask[1114][900:2000,1900:3400])\n",
    "ax[1,2].imshow(traced_mask[1114][900:2000,1900:3400])"
   ]
  },
  {
   "cell_type": "code",
   "execution_count": 205,
   "metadata": {},
   "outputs": [
    {
     "data": {
      "text/plain": [
       "(array([926, 926, 926, 927, 927, 927, 928, 928, 928, 928, 929, 929, 929],\n",
       "       dtype=int64),\n",
       " array([683, 684, 685, 684, 685, 686, 685, 686, 687, 688, 686, 687, 688],\n",
       "       dtype=int64))"
      ]
     },
     "execution_count": 205,
     "metadata": {},
     "output_type": "execute_result"
    }
   ],
   "source": [
    "np.where((traced_mask[1115][900:2000,1900:3400]-axon_mask[1114][900:2000,1900:3400])==233)"
   ]
  },
  {
   "cell_type": "code",
   "execution_count": null,
   "metadata": {},
   "outputs": [],
   "source": []
  },
  {
   "cell_type": "code",
   "execution_count": 210,
   "metadata": {},
   "outputs": [
    {
     "data": {
      "text/plain": [
       "<matplotlib.image.AxesImage at 0x612496a0>"
      ]
     },
     "execution_count": 210,
     "metadata": {},
     "output_type": "execute_result"
    },
    {
     "data": {
      "image/png": "[encoded data removed]",
      "text/plain": [
       "<Figure size 432x288 with 1 Axes>"
      ]
     },
     "metadata": {},
     "output_type": "display_data"
    }
   ],
   "source": [
    "plt.imshow(axon_mask[1114][900:2000,1900:3400][900:950,650:700])"
   ]
  },
  {
   "cell_type": "code",
   "execution_count": 198,
   "metadata": {},
   "outputs": [
    {
     "data": {
      "text/plain": [
       "<matplotlib.image.AxesImage at 0x5a52e080>"
      ]
     },
     "execution_count": 198,
     "metadata": {},
     "output_type": "execute_result"
    },
    {
     "data": {
      "image/png": "[encoded data removed]",
      "text/plain": [
       "<Figure size 432x288 with 1 Axes>"
      ]
     },
     "metadata": {},
     "output_type": "display_data"
    }
   ],
   "source": [
    "plt.imshow(traced_mask[1104][900:2000,1900:3400][100:400,400:900])"
   ]
  },
  {
   "cell_type": "code",
   "execution_count": 229,
   "metadata": {},
   "outputs": [
    {
     "data": {
      "text/plain": [
       "<matplotlib.image.AxesImage at 0x378d3630>"
      ]
     },
     "execution_count": 229,
     "metadata": {},
     "output_type": "execute_result"
    },
    {
     "data": {
      "image/png": "[encoded data removed]",
      "text/plain": [
       "<Figure size 432x288 with 1 Axes>"
      ]
     },
     "metadata": {},
     "output_type": "display_data"
    }
   ],
   "source": [
    "plt.imshow(traced_mask[1285][750:1000,1500:2000])"
   ]
  }
 ],
 "metadata": {
  "kernelspec": {
   "display_name": "Python 3",
   "language": "python",
   "name": "python3"
  },
  "language_info": {
   "codemirror_mode": {
    "name": "ipython",
    "version": 3
   },
   "file_extension": ".py",
   "mimetype": "text/x-python",
   "name": "python",
   "nbconvert_exporter": "python",
   "pygments_lexer": "ipython3",
   "version": "3.6.5"
  }
 },
 "nbformat": 4,
 "nbformat_minor": 2
}
