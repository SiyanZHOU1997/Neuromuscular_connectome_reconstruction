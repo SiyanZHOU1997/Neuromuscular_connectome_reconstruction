{
 "cells": [
  {
   "cell_type": "code",
   "execution_count": 54,
   "metadata": {},
   "outputs": [
    {
     "name": "stdout",
     "output_type": "stream",
     "text": [
      "Populating the interactive namespace from numpy and matplotlib\n"
     ]
    },
    {
     "name": "stderr",
     "output_type": "stream",
     "text": [
      "/home/xupeng/anaconda3/lib/python3.6/site-packages/IPython/core/magics/pylab.py:160: UserWarning: pylab import has clobbered these variables: ['imread', 'f']\n",
      "`%matplotlib` prevents importing * from pylab and numpy\n",
      "  \"\\n`%matplotlib` prevents importing * from pylab and numpy\"\n"
     ]
    }
   ],
   "source": [
    "import h5py\n",
    "import numpy as np\n",
    "import matplotlib.pyplot as plt\n",
    "from matplotlib import cm\n",
    "import cv2\n",
    "from scipy import ndimage\n",
    "from matplotlib import pyplot\n",
    "import scipy\n",
    "from PIL import Image\n",
    "from skimage import measure\n",
    "import math\n",
    "from tqdm import tqdm_notebook as tqdm\n",
    "import h5py\n",
    "from imageio import imread\n",
    "import pickle\n",
    "%pylab inline"
   ]
  },
  {
   "cell_type": "markdown",
   "metadata": {},
   "source": [
    "# main function"
   ]
  },
  {
   "cell_type": "code",
   "execution_count": 117,
   "metadata": {},
   "outputs": [],
   "source": [
    "def postsynapticArea(axonVolume,muscleVolume,miplevel,axonId,muscleId,dilationXY,dilationZ):\n",
    "    '''\n",
    "    calculate the postsynaptic area of a given axon at a given NMJ\n",
    "    \n",
    "    input:\n",
    "        axonVolume: [3D array] the original segmentation image volume of axon.\n",
    "        muscleVolume: [3D array] the original segmentation image volume of muscle.\n",
    "        mipLevel: [int] the mipLevel of original segmentation image.\n",
    "        axonId: [int] the Id of desired axon.\n",
    "        muscleId: [int] the Id of desired muscle.\n",
    "        dilationXY: [int] dilation distance on XY plane, in nm\n",
    "        dilationZ: [int] dilation distance on Z axis, in nm\n",
    "    output:\n",
    "        area: [int] the postsynaptic area of the given axon at the given NMJ\n",
    "    '''\n",
    "    print ('preprocessing ............')\n",
    "    axon,muscle = preprocessing(axonVolume,muscleVolume,miplevel,axonId,muscleId)\n",
    "    print ('dilating ............')\n",
    "    daxon = dilation(axon,dilationXY/4,dilationZ/4)\n",
    "    overlap = (daxon == 1) * (muscle == 1)\n",
    "    print ('calculating overlap ............')\n",
    "    area = boundryArea(overlap,daxon)\n",
    "    \n",
    "    return area,axon,muscle,daxon"
   ]
  },
  {
   "cell_type": "markdown",
   "metadata": {},
   "source": [
    "# functions called by the main function"
   ]
  },
  {
   "cell_type": "markdown",
   "metadata": {},
   "source": [
    "### interpolation"
   ]
  },
  {
   "cell_type": "code",
   "execution_count": 26,
   "metadata": {},
   "outputs": [],
   "source": [
    "def preprocessing(axonVolume,muscleVolume,miplevel,axonId,muscleId):\n",
    "    \n",
    "    #preserve the desired axon and muscle\n",
    "    axon = (axonVolume == axonId).astype('uint8')\n",
    "    muscle = (muscleVolume == muscleId).astype('uint8')\n",
    "    \n",
    "    #bounding box according to muscle\n",
    "    zMIN,zMAX,xMIN,xMAX,yMIN,yMAX = boundingBox(muscle)\n",
    "    zMIN_ = max(0,zMIN-int(50/int((16/(2**miplevel)))))\n",
    "    zMAX_ = min(axon.shape[0]-1,zMAX+int(50/int((16/(2**miplevel))))+1)\n",
    "    xMIN_ = max(0,xMIN-50)\n",
    "    xMAX_ = min(axon.shape[1]-1,xMAX+50)\n",
    "    yMIN_ = max(0,yMIN-50)\n",
    "    yMAX_ = min(axon.shape[2]-1,yMAX+50)\n",
    "    axonB = axon[zMIN_:zMAX_+1,xMIN_:xMAX_+1,yMIN_:yMAX_+1]\n",
    "    muscleB = muscle[zMIN_:zMAX_+1,xMIN_:xMAX_+1,yMIN_:yMAX_+1]\n",
    "    \n",
    "    #initiate the interpolated volume\n",
    "    z = int(axonB.shape[0] * (16/(2**miplevel)))\n",
    "    x = axonB.shape[1] \n",
    "    y = axonB.shape[2] \n",
    "    interpolatedAxon = np.zeros((z,x,y),dtype = 'uint8')\n",
    "    interpolatedMuscle = np.zeros((z,x,y),dtype = 'uint8')\n",
    "    \n",
    "    #interpolation\n",
    "    for i in range(y):\n",
    "        res = cv2.resize(axonB[:,:,i],(x,z),interpolation = cv2.INTER_LINEAR)\n",
    "        interpolatedAxon[:,:,i]=res\n",
    "    for i in range(y):\n",
    "        res = cv2.resize(muscleB[:,:,i],(x,z),interpolation = cv2.INTER_LINEAR)\n",
    "        interpolatedMuscle[:,:,i]=res\n",
    "        \n",
    "    return interpolatedAxon,interpolatedMuscle"
   ]
  },
  {
   "cell_type": "markdown",
   "metadata": {},
   "source": [
    "### dilation"
   ]
  },
  {
   "cell_type": "code",
   "execution_count": 27,
   "metadata": {},
   "outputs": [],
   "source": [
    "def dilation(imgVolume,dilationXY,dilationZ):\n",
    "    dilatedVolume = np.zeros(imgVolume.shape,dtype = \"bool\")\n",
    "    for i in tqdm(range(imgVolume.shape[0])):\n",
    "        \n",
    "        #dilate in XY plane\n",
    "        dt = ndimage.distance_transform_edt(1-imgVolume[i]) \n",
    "        dilatedSection = (dt<dilationXY)\n",
    "        dilatedVolume[i] += dilatedSection\n",
    "        \n",
    "        #dilate in Z axis\n",
    "        for j in range(int(dilationZ))[1:]:\n",
    "            if i-j >= 0:\n",
    "                dilatedVolume[i-j] += dilatedSection\n",
    "            if i+j < imgVolume.shape[0]:\n",
    "                dilatedVolume[i+j] += dilatedSection\n",
    "                \n",
    "    return dilatedVolume"
   ]
  },
  {
   "cell_type": "markdown",
   "metadata": {},
   "source": [
    "### boundry"
   ]
  },
  {
   "cell_type": "code",
   "execution_count": 28,
   "metadata": {},
   "outputs": [],
   "source": [
    "def boundryArea(overlap,daxon):\n",
    "    zMIN,zMAX,xMIN,xMAX,yMIN,yMAX = boundingBox(overlap)\n",
    "    dt_daxon = ndimage.distance_transform_edt(daxon[zMIN:zMAX+1,xMIN:xMAX+1,yMIN:yMAX+1]) \n",
    "    false_boundry = (dt_daxon == 1)\n",
    "    dt_ol = ndimage.distance_transform_edt(overlap[zMIN:zMAX+1,xMIN:xMAX+1,yMIN:yMAX+1]) \n",
    "    true_boundry = (dt_ol == 1)\n",
    "    inner = true_boundry * false_boundry\n",
    "    boundry = true_boundry ^ inner\n",
    "    boundryArea = np.sum(boundry)\n",
    "    return boundryArea"
   ]
  },
  {
   "cell_type": "markdown",
   "metadata": {},
   "source": [
    "### bounding box"
   ]
  },
  {
   "cell_type": "code",
   "execution_count": 29,
   "metadata": {},
   "outputs": [],
   "source": [
    "def boundingBox(imgVolume):\n",
    "    zMIN = 0\n",
    "    zMAX = imgVolume.shape[0]-1\n",
    "    for i in range(imgVolume.shape[0]):\n",
    "        sum = np.sum(imgVolume[i,:,:])\n",
    "        if zMIN == 0 and sum > 0:\n",
    "            zMIN = i\n",
    "        if sum > 0:\n",
    "            zMAX = i\n",
    "            \n",
    "    xMIN = 0\n",
    "    xMAX = imgVolume.shape[1]-1\n",
    "    for i in range(imgVolume.shape[1]):\n",
    "        sum = np.sum(imgVolume[:,i,:])\n",
    "        if xMIN == 0 and sum > 0:\n",
    "            xMIN = i\n",
    "        if sum > 0:\n",
    "            xMAX = i\n",
    "    \n",
    "    yMIN = 0\n",
    "    yMAX = imgVolume.shape[2]-1\n",
    "    for i in range(imgVolume.shape[2]):\n",
    "        sum = np.sum(imgVolume[:,:,i])\n",
    "        if yMIN == 0 and sum > 0:\n",
    "            yMIN = i\n",
    "        if sum > 0:\n",
    "            yMAX = i\n",
    "            \n",
    "    return zMIN,zMAX,xMIN,xMAX,yMIN,yMAX"
   ]
  },
  {
   "cell_type": "code",
   "execution_count": null,
   "metadata": {},
   "outputs": [],
   "source": []
  }
 ],
 "metadata": {
  "kernelspec": {
   "display_name": "Python 3",
   "language": "python",
   "name": "python3"
  },
  "language_info": {
   "codemirror_mode": {
    "name": "ipython",
    "version": 3
   },
   "file_extension": ".py",
   "mimetype": "text/x-python",
   "name": "python",
   "nbconvert_exporter": "python",
   "pygments_lexer": "ipython3",
   "version": "3.6.5"
  },
  "toc": {
   "base_numbering": 1,
   "nav_menu": {},
   "number_sections": true,
   "sideBar": true,
   "skip_h1_title": false,
   "title_cell": "Table of Contents",
   "title_sidebar": "Contents",
   "toc_cell": false,
   "toc_position": {},
   "toc_section_display": true,
   "toc_window_display": false
  }
 },
 "nbformat": 4,
 "nbformat_minor": 2
}
