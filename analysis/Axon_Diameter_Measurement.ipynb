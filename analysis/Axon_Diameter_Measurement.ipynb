{
 "cells": [
  {
   "cell_type": "code",
   "execution_count": 2,
   "metadata": {},
   "outputs": [
    {
     "name": "stderr",
     "output_type": "stream",
     "text": [
      "/home/xupeng/anaconda3/lib/python3.6/site-packages/h5py/__init__.py:36: FutureWarning: Conversion of the second argument of issubdtype from `float` to `np.floating` is deprecated. In future, it will be treated as `np.float64 == np.dtype(float).type`.\n",
      "  from ._conv import register_converters as _register_converters\n"
     ]
    },
    {
     "name": "stdout",
     "output_type": "stream",
     "text": [
      "Populating the interactive namespace from numpy and matplotlib\n"
     ]
    },
    {
     "name": "stderr",
     "output_type": "stream",
     "text": [
      "/home/xupeng/anaconda3/lib/python3.6/site-packages/IPython/core/magics/pylab.py:160: UserWarning: pylab import has clobbered these variables: ['draw']\n",
      "`%matplotlib` prevents importing * from pylab and numpy\n",
      "  \"\\n`%matplotlib` prevents importing * from pylab and numpy\"\n"
     ]
    }
   ],
   "source": [
    "import h5py\n",
    "import numpy as np\n",
    "import matplotlib.pyplot as plt\n",
    "from matplotlib import cm\n",
    "import cv2\n",
    "from scipy import ndimage\n",
    "from matplotlib import pyplot\n",
    "import scipy\n",
    "from PIL import Image\n",
    "from skimage import measure\n",
    "import math\n",
    "from tqdm import tqdm_notebook as tqdm\n",
    "from skimage import morphology,draw\n",
    "import os\n",
    "import pandas as pd\n",
    "%pylab inline\n",
    "from imageio import imread\n",
    "import pickle"
   ]
  },
  {
   "cell_type": "markdown",
   "metadata": {},
   "source": [
    "# load a single image to determine image size\n",
    "f = Image.open(\"mask41noassign.vsseg_export_s100.png\")\n",
    "im = np.asarray(f)\n",
    "im.shape"
   ]
  },
  {
   "cell_type": "code",
   "execution_count": null,
   "metadata": {},
   "outputs": [],
   "source": [
    "# z is section number\n",
    "# n is the original segmentation image volume\n",
    "z = 31\n",
    "n = np.zeros((z,im.shape[0],im.shape[1]),dtype = 'uint8')"
   ]
  },
  {
   "cell_type": "code",
   "execution_count": null,
   "metadata": {},
   "outputs": [],
   "source": [
    "for i in range(z):\n",
    "    f = Image.open(\"mask41noassign.vsseg_export_s\" +str(\"%03d\"%j)+\".png\")\n",
    "    im = np.asarray(f)\n",
    "    \n",
    "    # if empty section, copy from the section above\n",
    "    if np.sum(im) == 0:\n",
    "        im = n[i-1]\n",
    "        \n",
    "    n[i] = im"
   ]
  },
  {
   "cell_type": "markdown",
   "metadata": {},
   "source": [
    "# main function"
   ]
  },
  {
   "cell_type": "code",
   "execution_count": 310,
   "metadata": {},
   "outputs": [
    {
     "data": {
      "text/plain": [
       "array([  65,  772, 1007])"
      ]
     },
     "execution_count": 310,
     "metadata": {},
     "output_type": "execute_result"
    }
   ],
   "source": [
    "get_point_annotation(miplevel=3,export_x=6881,export_y=2525,muscleind=3,axonind='1a')"
   ]
  },
  {
   "cell_type": "code",
   "execution_count": 307,
   "metadata": {},
   "outputs": [
    {
     "data": {
      "text/plain": [
       "(300, 1681, 2936)"
      ]
     },
     "execution_count": 307,
     "metadata": {},
     "output_type": "execute_result"
    }
   ],
   "source": [
    "imgs_.shape"
   ]
  },
  {
   "cell_type": "code",
   "execution_count": 311,
   "metadata": {},
   "outputs": [
    {
     "data": {
      "text/plain": [
       "21"
      ]
     },
     "execution_count": 311,
     "metadata": {},
     "output_type": "execute_result"
    }
   ],
   "source": [
    "imgs_[65,  772, 1007]"
   ]
  },
  {
   "cell_type": "code",
   "execution_count": 315,
   "metadata": {},
   "outputs": [
    {
     "name": "stdout",
     "output_type": "stream",
     "text": [
      "begin 21\n",
      "initiate 21\n",
      "after 1\n",
      "1\n"
     ]
    },
    {
     "data": {
      "application/vnd.jupyter.widget-view+json": {
       "model_id": "cea5adf16b4b4d929409b8dbed597a4e",
       "version_major": 2,
       "version_minor": 0
      },
      "text/plain": [
       "HBox(children=(IntProgress(value=0, max=360), HTML(value='')))"
      ]
     },
     "metadata": {},
     "output_type": "display_data"
    },
    {
     "name": "stdout",
     "output_type": "stream",
     "text": [
      "\n",
      "2.03125 12.1875\n"
     ]
    },
    {
     "data": {
      "text/plain": [
       "14.21875"
      ]
     },
     "execution_count": 315,
     "metadata": {},
     "output_type": "execute_result"
    }
   ],
   "source": [
    "diameter(imgs_,3,21,np.array([65, 772,1007]),\n",
    "         1,0.1)"
   ]
  },
  {
   "cell_type": "code",
   "execution_count": null,
   "metadata": {},
   "outputs": [],
   "source": [
    "def diameter(segmentationVolume,mipLevel,axonId,point,degreeAccuracy,distanceAccuracy):\n",
    "    '''\n",
    "    calculate the diameter of an axon at a given point\n",
    "    \n",
    "    input:\n",
    "        segmentationVolume: [3D array] the original segmentation image volume\n",
    "        axonIdd: [int] the Id of desired axon.\n",
    "        point: [1*3 array] the point (z,x,y) passing which we want a cross section and its diameter. \n",
    "        mipLevel: [int] the mipLevel of original segmentation image.\n",
    "        degreeAcuracy: [int] degree accuracy of the diameter.\n",
    "        distanceAccuracy: [int] accuracy of the length of the diameter.\n",
    "    output:\n",
    "        diameter1: [int] the diameter on the first axis of this axon at this point\n",
    "        diameter2: [int] the diameter on the second axis of this axon at this point\n",
    "    '''\n",
    "        \n",
    "    axon = preprocessing(segmentationVolume,axonId,mipLevel)\n",
    "    \n",
    "    #find the minimum distance\n",
    "    vector = minDistance(axon,point,degreeAccuracy,distanceAccuracy)\n",
    "    \n",
    "    #redefine the centerPoint, this time closer to the center\n",
    "    minDis = calDiameter(axon,point,vector,distanceAccuracy)[0]\n",
    "    reverseMinDis = calDiameter(axon,point,vector,distanceAccuracy)[1]\n",
    "    centerPoint = point + ((minDis-reverseMinDis)/2)*vector\n",
    "    \n",
    "    #find the first axis defined by the minimum distance passing the centerPoint\n",
    "    firstAxis = minDistance(axon,centerPoint,degreeAccuracy,distanceAccuracy)\n",
    "    diameter1 = calDiameter(axon,centerPoint,firstAxis,distanceAccuracy)[2]\n",
    "    \n",
    "    #find the second axis, passing the centerPoint, orthogonal to the first axis \n",
    "    secondAxis = findSecondAxis(axon,centerPoint,degreeAccuracy,distanceAccuracy,firstAxis)\n",
    "    diameter2 = calDiameter(axon,centerPoint,secondAxis,distanceAccuracy)[2]\n",
    "\n",
    "    return diameter1,diameter2,(diameter1+diameter2)/2"
   ]
  },
  {
   "cell_type": "markdown",
   "metadata": {},
   "source": [
    "below are all functions called by the main function"
   ]
  },
  {
   "cell_type": "markdown",
   "metadata": {},
   "source": [
    "\n",
    "# data pre-processing (preserve the desired axon and interpolate)"
   ]
  },
  {
   "cell_type": "code",
   "execution_count": 83,
   "metadata": {},
   "outputs": [],
   "source": [
    "def preprocessing(segmentationVolume,axonId,mipLevel,point):\n",
    "    '''\n",
    "    preserve the desired axon and interpolate\n",
    "    \n",
    "    input: \n",
    "        segmentationVolume: [3D array] the original segmentation image volume.\n",
    "        axonId: [int] the Id of desired axon.\n",
    "        mipLevel: [int] the mipLevel of original segmentation image.\n",
    "    output:\n",
    "        interpolatedAxon: [3D array] only containing the disired axon, and interpolated to mip0 resolution.\n",
    "    '''\n",
    "    \n",
    "    print('initiate',segmentationVolume[point[0],point[1],point[2]])\n",
    "    #preserve the desired axon\n",
    "    zMIN = max(0,(point[0]-int(200/int((16/(2**mipLevel))))))\n",
    "    zMAX = min(segmentationVolume.shape[0],(point[0]+int(200/int((16/(2**mipLevel))))+1))\n",
    "    xMIN = max(0,(point[1]-200))\n",
    "    xMAX = min(segmentationVolume.shape[1],(point[1]+201))\n",
    "    yMIN = max(0,(point[2]-200))\n",
    "    yMAX = min(segmentationVolume.shape[2],(point[2]+201))\n",
    "    axonVolume = (segmentationVolume[zMIN:zMAX,xMIN:xMAX,yMIN:yMAX] == axonId).astype('uint8')\n",
    "    #print (axonVolume)\n",
    "    #initiate the interpolated volume\n",
    "    z = axonVolume.shape[0] * int((16/(2**mipLevel)))\n",
    "    x = axonVolume.shape[1]\n",
    "    y = axonVolume.shape[2]\n",
    "    interpolatedAxon = np.zeros((z,x,y),dtype = 'uint8')\n",
    "    \n",
    "    #interpolation\n",
    "    for i in range(y):\n",
    "        res = cv2.resize(axonVolume[:,:,i],(x,z),interpolation = cv2.INTER_LINEAR)\n",
    "        interpolatedAxon[:,:,i]=res\n",
    "    \n",
    "    point[0]=(point[0]-zMIN)*int((16/(2**mipLevel)))\n",
    "    point[1]=point[1]-xMIN\n",
    "    point[2]=point[2]-yMIN\n",
    "    print('after',interpolatedAxon[point[0],point[1],point[2]])\n",
    "    return interpolatedAxon,point"
   ]
  },
  {
   "cell_type": "markdown",
   "metadata": {},
   "source": [
    "# diameter measurement"
   ]
  },
  {
   "cell_type": "markdown",
   "metadata": {},
   "source": [
    "### get the direction with minimum distance between the axon boundry at this direction and the preset point"
   ]
  },
  {
   "cell_type": "code",
   "execution_count": 84,
   "metadata": {},
   "outputs": [],
   "source": [
    "def minDistance(imgVolume,point,degreeAccuracy,distanceAccuracy):\n",
    "    '''\n",
    "    get the direction with minimum distance between the axon boundry at this direction and the preset point\n",
    "    \n",
    "    input:\n",
    "        imgVolume: [3D array] interpolatedAxon.\n",
    "        point: [1*3 array] the point passing which we want a cross section and its diameter. \n",
    "        degreeAcuracy: [int] degree accuracy of the direction with minimum distance.\n",
    "        distanceAccuracy: [int] accuracy when calculating the distance between the axon boundry and the point.\n",
    "    output:\n",
    "        vector: [1*3 array] the direction with minimum diatance, representing by a unit vector.\n",
    "    '''\n",
    "    \n",
    "    vector = np.array([0,0,0])\n",
    "    min_dis = 99999\n",
    "    counts = int(360/degreeAccuracy)\n",
    "    for i in tqdm(range(counts)):\n",
    "        for j in range(counts):\n",
    "            a = (i-counts/2)/(counts/2)*math.pi\n",
    "            b = (j-counts/2)/(counts/2)*math.pi\n",
    "            z = math.sin(a)\n",
    "            x = math.cos(a)*math.cos(b)\n",
    "            y = math.cos(a)*math.sin(b)\n",
    "            vec = np.array([z,x,y])\n",
    "            dis = distance(imgVolume,point,vec,distanceAccuracy)\n",
    "            if dis < min_dis:\n",
    "                min_dis = dis\n",
    "                vector = vec\n",
    "    return vector"
   ]
  },
  {
   "cell_type": "markdown",
   "metadata": {},
   "source": [
    "### get the second axis orthogonal to the first axis"
   ]
  },
  {
   "cell_type": "code",
   "execution_count": null,
   "metadata": {},
   "outputs": [],
   "source": [
    "def findSecondAxis(imgVolume,point,degreeAccuracy,distanceAccuracy,firstAxis):\n",
    "    '''\n",
    "    get the sencond axis, which passes the point, orthogonal to the first axis, and have the minimum distance among \n",
    "    all orthogonal directions.\n",
    "    \n",
    "    input:\n",
    "        imgVolume: [3D array] interpolatedAxon.\n",
    "        point: [1*3 array] the point passing which we want a cross section and its diameter. \n",
    "        degreeAcuracy: [int] degree accuracy of the direction with minimum distance.\n",
    "        distanceAccuracy: [int] accuracy when calculating the distance between the axon boundry and the point.\n",
    "        firstAxis:[1*3 array] the vector which the secondAxis should be orthogonal to.\n",
    "    output:\n",
    "        secondAxis: [1*3 array] the direction of the secondAxis, with minimum diatance among all direction orthogonal \n",
    "                            to the firstAxis, representing by a unit vector.                  \n",
    "    '''\n",
    "\n",
    "    vector = np.array([0,0,0])\n",
    "    min_dis = 99999\n",
    "    counts = int(360/degreeAccuracy)\n",
    "    for i in tqdm(range(counts)):\n",
    "        for j in range(counts):\n",
    "            a = (i-counts/2)/(counts/2)*math.pi\n",
    "            b = (j-counts/2)/(counts/2)*math.pi\n",
    "            z = math.sin(a)\n",
    "            x = math.cos(a)*math.cos(b)\n",
    "            y = math.cos(a)*math.sin(b)\n",
    "            vec = np.array([z,x,y])\n",
    "            if np.abs(vec.dot(firstAxis)) > 0.0088 :\n",
    "                continue\n",
    "            dis = distance(imgVolume,point,vec,distanceAccuracy)\n",
    "            if dis < min_dis:\n",
    "                min_dis = dis\n",
    "                vector = vec\n",
    "    return vector"
   ]
  },
  {
   "cell_type": "markdown",
   "metadata": {},
   "source": [
    "### calculate the distance between the axon boundry at a preset direction and  a preset point"
   ]
  },
  {
   "cell_type": "code",
   "execution_count": 85,
   "metadata": {},
   "outputs": [],
   "source": [
    "def distance(imgVolume,point,vector,accuracy):\n",
    "    '''\n",
    "    calculate the distance between the axon boundry at a preset direction and  a preset point\n",
    "    \n",
    "    input:\n",
    "        imgVolume: [3D array] interpolatedAxon.\n",
    "        point: [1*3 array] the point passing which we want a cross section and its diameter. \n",
    "        vector: [1*3 array] the preset direction\n",
    "        accuracy: [int] accuracy when calculating the distance between the axon boundry and the point.\n",
    "    output:\n",
    "        distance: [int] the distance between the axon boundry at the vector direction and the point.\n",
    "    '''\n",
    "    \n",
    "    dis = 0\n",
    "    \n",
    "    #firstly, define a range of the distance\n",
    "    begin = 0\n",
    "    end = 990\n",
    "    for i in range(100):\n",
    "        d = i*10.0\n",
    "        newpoint = point + d*vector\n",
    "        try:\n",
    "            if imgVolume[math.floor(newpoint[0]),math.floor(newpoint[1]),math.floor(newpoint[2])] == 1:\n",
    "                begin = d\n",
    "                end = d\n",
    "            else:\n",
    "                end = d\n",
    "                break\n",
    "        except:\n",
    "            break\n",
    "            \n",
    "    #then, use binary search to define the accurate distance with the preset accuracy\n",
    "    for i in range(math.floor(math.log(10/accuracy,2)+1)):\n",
    "        dmed2 = (begin + end)/2.0\n",
    "        dmed1 = dmed2-accuracy\n",
    "        med2 = point + dmed2 * vector\n",
    "        med1 = point + dmed1 * vector\n",
    "        if imgVolume[math.floor(med2[0]),math.floor(med2[1]),math.floor(med2[2])] == 0:\n",
    "            if imgVolume[math.floor(med1[0]),math.floor(med1[1]),math.floor(med1[2])] == 1:\n",
    "                dis = dmed2\n",
    "                break\n",
    "            else:\n",
    "                end = dmed2\n",
    "        else:\n",
    "            begin = dmed2\n",
    "        #if not found, it means the axon boundry at this direction is not contained in this imagevolume\n",
    "        if i == math.floor(math.log(10/accuracy,2)+1)-1:\n",
    "            dis = dmed2\n",
    "            \n",
    "    return dis"
   ]
  },
  {
   "cell_type": "markdown",
   "metadata": {},
   "source": [
    "### calculate the diameter at the cross section defined by a point and a vector."
   ]
  },
  {
   "cell_type": "code",
   "execution_count": 86,
   "metadata": {},
   "outputs": [],
   "source": [
    "def calDiameter(imgVolume,point,vector,accuracy):\n",
    "    '''\n",
    "    calculate the diameter at the cross section defined by a point and a vector.\n",
    "    \n",
    "    input: \n",
    "        imgVolume: [3D array] interpolatedAxon.\n",
    "        point: [1*3 array] the point passing which we want a cross section and its diameter. \n",
    "        vector: [1*3 array] the direction with the minimum distance from the boundry to the point\n",
    "        accuracy: [int] accuracy when calculating the distance between the axon boundry and the point.\n",
    "    output:\n",
    "        dis1: [int] the distance on the vector direction\n",
    "        dis2: [int] the distance on the reverse extension direction\n",
    "        dis1+dis2: [int] the diameter\n",
    "    '''\n",
    "        \n",
    "    dis1 = distance(imgVolume,point,vector,accuracy)\n",
    "    dis2 = distance(imgVolume,point,-1*vector,accuracy)\n",
    "    return dis1,dis2,dis1+dis2"
   ]
  },
  {
   "cell_type": "markdown",
   "metadata": {},
   "source": [
    "### bounding box"
   ]
  },
  {
   "cell_type": "code",
   "execution_count": 87,
   "metadata": {},
   "outputs": [],
   "source": [
    "def boundingBox(imgVolume):\n",
    "    zMIN = 0\n",
    "    zMAX = imgVolume.shape[0]-1\n",
    "    for i in range(imgVolume.shape[0]):\n",
    "        sum = np.sum(imgVolume[i,:,:])\n",
    "        if zMIN == 0 and sum > 0:\n",
    "            zMIN = i\n",
    "        if sum > 0:\n",
    "            zMAX = i\n",
    "            \n",
    "    xMIN = 0\n",
    "    xMAX = imgVolume.shape[1]-1\n",
    "    for i in range(imgVolume.shape[1]):\n",
    "        sum = np.sum(imgVolume[:,i,:])\n",
    "        if xMIN == 0 and sum > 0:\n",
    "            xMIN = i\n",
    "        if sum > 0:\n",
    "            xMAX = i\n",
    "    \n",
    "    yMIN = 0\n",
    "    yMAX = imgVolume.shape[2]-1\n",
    "    for i in range(imgVolume.shape[2]):\n",
    "        sum = np.sum(imgVolume[:,:,i])\n",
    "        if yMIN == 0 and sum > 0:\n",
    "            yMIN = i\n",
    "        if sum > 0:\n",
    "            yMAX = i\n",
    "            \n",
    "    return zMIN,zMAX,xMIN,xMAX,yMIN,yMAX"
   ]
  }
 ],
 "metadata": {
  "kernelspec": {
   "display_name": "Python 3",
   "language": "python",
   "name": "python3"
  },
  "language_info": {
   "codemirror_mode": {
    "name": "ipython",
    "version": 3
   },
   "file_extension": ".py",
   "mimetype": "text/x-python",
   "name": "python",
   "nbconvert_exporter": "python",
   "pygments_lexer": "ipython3",
   "version": "3.6.5"
  },
  "toc": {
   "base_numbering": 1,
   "nav_menu": {},
   "number_sections": true,
   "sideBar": true,
   "skip_h1_title": false,
   "title_cell": "Table of Contents",
   "title_sidebar": "Contents",
   "toc_cell": false,
   "toc_position": {},
   "toc_section_display": true,
   "toc_window_display": false
  }
 },
 "nbformat": 4,
 "nbformat_minor": 2
}
